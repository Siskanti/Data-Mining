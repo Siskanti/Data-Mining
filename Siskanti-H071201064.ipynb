{
  "nbformat": 4,
  "nbformat_minor": 0,
  "metadata": {
    "colab": {
      "name": "Siskanti-H071201064.ipynb",
      "provenance": []
    },
    "kernelspec": {
      "name": "python3",
      "display_name": "Python 3"
    },
    "language_info": {
      "name": "python"
    }
  },
  "cells": [
    {
      "cell_type": "markdown",
      "metadata": {
        "id": "vQ9BuP7Me6hp"
      },
      "source": [
        "Tugas 1"
      ]
    },
    {
      "cell_type": "markdown",
      "metadata": {
        "id": "YeFfJp3ce9Zc"
      },
      "source": [
        "Siskanti_H071201064_Sistem Informasi"
      ]
    },
    {
      "cell_type": "markdown",
      "metadata": {
        "id": "j46I4_PEfIm1"
      },
      "source": [
        "1. Cari dan unduh data set dari repository Kaggle dan UCI Machine Learning\n"
      ]
    },
    {
      "cell_type": "code",
      "metadata": {
        "colab": {
          "base_uri": "https://localhost:8080/",
          "height": 423
        },
        "id": "NCn3e19laTPi",
        "outputId": "26075b27-5d17-4cd5-ee04-3b2850272ba5"
      },
      "source": [
        "import pandas as pd\n",
        "data = pd.read_csv(\"COVID-19_India_Data.csv\")\n",
        "data"
      ],
      "execution_count": 5,
      "outputs": [
        {
          "output_type": "execute_result",
          "data": {
            "text/html": [
              "<div>\n",
              "<style scoped>\n",
              "    .dataframe tbody tr th:only-of-type {\n",
              "        vertical-align: middle;\n",
              "    }\n",
              "\n",
              "    .dataframe tbody tr th {\n",
              "        vertical-align: top;\n",
              "    }\n",
              "\n",
              "    .dataframe thead th {\n",
              "        text-align: right;\n",
              "    }\n",
              "</style>\n",
              "<table border=\"1\" class=\"dataframe\">\n",
              "  <thead>\n",
              "    <tr style=\"text-align: right;\">\n",
              "      <th></th>\n",
              "      <th>Date_reported</th>\n",
              "      <th>new_cases</th>\n",
              "      <th>cum_cases</th>\n",
              "      <th>new_death</th>\n",
              "      <th>cum_death</th>\n",
              "      <th>cum_recovered</th>\n",
              "      <th>cum_active_cases</th>\n",
              "    </tr>\n",
              "  </thead>\n",
              "  <tbody>\n",
              "    <tr>\n",
              "      <th>0</th>\n",
              "      <td>2020-01-30</td>\n",
              "      <td>1</td>\n",
              "      <td>1</td>\n",
              "      <td>0</td>\n",
              "      <td>0</td>\n",
              "      <td>0</td>\n",
              "      <td>1</td>\n",
              "    </tr>\n",
              "    <tr>\n",
              "      <th>1</th>\n",
              "      <td>2020-01-31</td>\n",
              "      <td>0</td>\n",
              "      <td>1</td>\n",
              "      <td>0</td>\n",
              "      <td>0</td>\n",
              "      <td>0</td>\n",
              "      <td>1</td>\n",
              "    </tr>\n",
              "    <tr>\n",
              "      <th>2</th>\n",
              "      <td>2020-02-01</td>\n",
              "      <td>0</td>\n",
              "      <td>1</td>\n",
              "      <td>0</td>\n",
              "      <td>0</td>\n",
              "      <td>0</td>\n",
              "      <td>1</td>\n",
              "    </tr>\n",
              "    <tr>\n",
              "      <th>3</th>\n",
              "      <td>2020-02-02</td>\n",
              "      <td>1</td>\n",
              "      <td>2</td>\n",
              "      <td>0</td>\n",
              "      <td>0</td>\n",
              "      <td>0</td>\n",
              "      <td>2</td>\n",
              "    </tr>\n",
              "    <tr>\n",
              "      <th>4</th>\n",
              "      <td>2020-02-03</td>\n",
              "      <td>1</td>\n",
              "      <td>3</td>\n",
              "      <td>0</td>\n",
              "      <td>0</td>\n",
              "      <td>0</td>\n",
              "      <td>3</td>\n",
              "    </tr>\n",
              "    <tr>\n",
              "      <th>...</th>\n",
              "      <td>...</td>\n",
              "      <td>...</td>\n",
              "      <td>...</td>\n",
              "      <td>...</td>\n",
              "      <td>...</td>\n",
              "      <td>...</td>\n",
              "      <td>...</td>\n",
              "    </tr>\n",
              "    <tr>\n",
              "      <th>574</th>\n",
              "      <td>2021-08-26</td>\n",
              "      <td>44658</td>\n",
              "      <td>32603188</td>\n",
              "      <td>496</td>\n",
              "      <td>436861</td>\n",
              "      <td>31821428</td>\n",
              "      <td>344899</td>\n",
              "    </tr>\n",
              "    <tr>\n",
              "      <th>575</th>\n",
              "      <td>2021-08-27</td>\n",
              "      <td>46759</td>\n",
              "      <td>32649947</td>\n",
              "      <td>509</td>\n",
              "      <td>437370</td>\n",
              "      <td>31852802</td>\n",
              "      <td>359775</td>\n",
              "    </tr>\n",
              "    <tr>\n",
              "      <th>576</th>\n",
              "      <td>2021-08-28</td>\n",
              "      <td>45083</td>\n",
              "      <td>32695030</td>\n",
              "      <td>460</td>\n",
              "      <td>437830</td>\n",
              "      <td>31888642</td>\n",
              "      <td>368558</td>\n",
              "    </tr>\n",
              "    <tr>\n",
              "      <th>577</th>\n",
              "      <td>2021-08-29</td>\n",
              "      <td>42909</td>\n",
              "      <td>32737939</td>\n",
              "      <td>380</td>\n",
              "      <td>438210</td>\n",
              "      <td>31923405</td>\n",
              "      <td>376324</td>\n",
              "    </tr>\n",
              "    <tr>\n",
              "      <th>578</th>\n",
              "      <td>2021-08-30</td>\n",
              "      <td>30941</td>\n",
              "      <td>32768880</td>\n",
              "      <td>350</td>\n",
              "      <td>438560</td>\n",
              "      <td>31959680</td>\n",
              "      <td>370640</td>\n",
              "    </tr>\n",
              "  </tbody>\n",
              "</table>\n",
              "<p>579 rows × 7 columns</p>\n",
              "</div>"
            ],
            "text/plain": [
              "    Date_reported  new_cases  ...  cum_recovered  cum_active_cases\n",
              "0      2020-01-30          1  ...              0                 1\n",
              "1      2020-01-31          0  ...              0                 1\n",
              "2      2020-02-01          0  ...              0                 1\n",
              "3      2020-02-02          1  ...              0                 2\n",
              "4      2020-02-03          1  ...              0                 3\n",
              "..            ...        ...  ...            ...               ...\n",
              "574    2021-08-26      44658  ...       31821428            344899\n",
              "575    2021-08-27      46759  ...       31852802            359775\n",
              "576    2021-08-28      45083  ...       31888642            368558\n",
              "577    2021-08-29      42909  ...       31923405            376324\n",
              "578    2021-08-30      30941  ...       31959680            370640\n",
              "\n",
              "[579 rows x 7 columns]"
            ]
          },
          "metadata": {},
          "execution_count": 5
        }
      ]
    },
    {
      "cell_type": "markdown",
      "metadata": {
        "id": "Y5XOyPsbgDev"
      },
      "source": [
        "2. Ceritakan dataset yang diambil dan kira-kira value apa yang bisa diambil dari data tersebut serta jelaskan jenis atributnya."
      ]
    },
    {
      "cell_type": "markdown",
      "metadata": {
        "id": "SSGOFLj9gpTg"
      },
      "source": [
        "Dari dataset tersebut menggambarkan tentang kumpulan data-data COVID-19 yang ada di Negara India"
      ]
    },
    {
      "cell_type": "markdown",
      "metadata": {
        "id": "y5pr7Nm0g4Q-"
      },
      "source": [
        "Tujuan dari dataset tersebut yaitu :\n",
        "\n",
        "1.   Untuk mengetahui jumlah kasus yang dikonfirmasi\n",
        "2.   Untuk mengetahui jumlah kematian\n",
        "3.   Untuk mengetahui pasien yang sembuh\n",
        "4.   Untuk mengetahui jumlah kasus baru yang dihitung oleh kasus kumulatif saat ini dan sebelumnya\n",
        "5.   Untuk mengetahui kematian baru yang dihitung dengan kematian kumulatif saat ini dan sebelumnya\n",
        "6.   Untuk mengetahui jumlah orang yang terinfeksi yang dihitung dari kumulatif kasus kematian dan kumulatif yang pulih\n",
        "\n"
      ]
    },
    {
      "cell_type": "markdown",
      "metadata": {
        "id": "v0Zy3Sm2jR1r"
      },
      "source": [
        "Adapun atribut-atributnya yaitu sebagai berikut:\n",
        "\n",
        "1.   Date_reported = tanggal termasuk atribut interval yang memiliki nilai sudah pasti misalnya 2020-01-30, 2020-01-01, 2020-01-02 ...\n",
        "2.   New_cases = atribut ratio yang menunjukkan jumlah kasus baru misalnya 0, 1, 2, 10000 ...\t\n",
        "3.   Cum_cases\t= termasuk atribut ratio dimana dalam kolom tersebut menunjukkan kumulatif kasus misalnya 1, 2, 3, 10000 ...\n",
        "4.   New_death\t= atribut ratio juga di dalam kolom tersebut menginformasikan jumlah kematian\n",
        "5.   Cum_death\t= merupakan atribut ratio dimana menerangkan tentang kumulatif kematian\n",
        "6.   Cum_recovered\t= menunjukkan kumulatif pasien yang pulih dan merupakan atribut ratio\n",
        "7.   Cum_active_cases = atribut ratio menunjukkan kasus yang aktif\n",
        "\n"
      ]
    },
    {
      "cell_type": "markdown",
      "metadata": {
        "id": "27tNcXyvmr58"
      },
      "source": [
        "Object\n",
        "1.   Manusia\n"
      ]
    },
    {
      "cell_type": "markdown",
      "metadata": {
        "id": "QUN9v4pYnaAj"
      },
      "source": [
        "3.  Visualisasikan dataset yang diambil secara sederhana"
      ]
    },
    {
      "cell_type": "code",
      "metadata": {
        "colab": {
          "base_uri": "https://localhost:8080/",
          "height": 415
        },
        "id": "sYPryxtMer2p",
        "outputId": "6d608832-8e23-4695-bd64-37f0dc8f1cd9"
      },
      "source": [
        "data.hist()"
      ],
      "execution_count": 2,
      "outputs": [
        {
          "output_type": "execute_result",
          "data": {
            "text/plain": [
              "array([[<matplotlib.axes._subplots.AxesSubplot object at 0x7faaf25af690>,\n",
              "        <matplotlib.axes._subplots.AxesSubplot object at 0x7faaf24eea50>],\n",
              "       [<matplotlib.axes._subplots.AxesSubplot object at 0x7faaf24b3110>,\n",
              "        <matplotlib.axes._subplots.AxesSubplot object at 0x7faaf2468790>],\n",
              "       [<matplotlib.axes._subplots.AxesSubplot object at 0x7faaf241fe10>,\n",
              "        <matplotlib.axes._subplots.AxesSubplot object at 0x7faaf23df4d0>]],\n",
              "      dtype=object)"
            ]
          },
          "metadata": {},
          "execution_count": 2
        },
        {
          "output_type": "display_data",
          "data": {
            "image/png": "[encoded data removed]",
            "text/plain": [
              "<Figure size 432x288 with 6 Axes>"
            ]
          },
          "metadata": {
            "needs_background": "light"
          }
        }
      ]
    },
    {
      "cell_type": "markdown",
      "metadata": {
        "id": "aLP2BINlnffW"
      },
      "source": [
        "Cek nama-nama kolom\n"
      ]
    },
    {
      "cell_type": "code",
      "metadata": {
        "colab": {
          "base_uri": "https://localhost:8080/"
        },
        "id": "T80-xZmVni-y",
        "outputId": "1c471e59-206d-4e90-aa50-eb82b12529eb"
      },
      "source": [
        "data.columns"
      ],
      "execution_count": 6,
      "outputs": [
        {
          "output_type": "execute_result",
          "data": {
            "text/plain": [
              "Index(['Date_reported', 'new_cases', 'cum_cases', 'new_death', 'cum_death',\n",
              "       'cum_recovered', 'cum_active_cases'],\n",
              "      dtype='object')"
            ]
          },
          "metadata": {},
          "execution_count": 6
        }
      ]
    },
    {
      "cell_type": "markdown",
      "metadata": {
        "id": "HB3mm0Abnqmg"
      },
      "source": [
        "mengakses kolom dengan nama \"cum_cases\""
      ]
    },
    {
      "cell_type": "code",
      "metadata": {
        "colab": {
          "base_uri": "https://localhost:8080/"
        },
        "id": "fOlnvD5ZnseF",
        "outputId": "5090700e-affa-4aef-e066-9f6a970e1369"
      },
      "source": [
        "data['cum_cases']"
      ],
      "execution_count": 7,
      "outputs": [
        {
          "output_type": "execute_result",
          "data": {
            "text/plain": [
              "0             1\n",
              "1             1\n",
              "2             1\n",
              "3             2\n",
              "4             3\n",
              "         ...   \n",
              "574    32603188\n",
              "575    32649947\n",
              "576    32695030\n",
              "577    32737939\n",
              "578    32768880\n",
              "Name: cum_cases, Length: 579, dtype: int64"
            ]
          },
          "metadata": {},
          "execution_count": 7
        }
      ]
    },
    {
      "cell_type": "markdown",
      "metadata": {
        "id": "L1hvt82fn6Wk"
      },
      "source": [
        "cek apakah ada data yang kosong"
      ]
    },
    {
      "cell_type": "code",
      "metadata": {
        "colab": {
          "base_uri": "https://localhost:8080/"
        },
        "id": "XM3VvPgSoGN9",
        "outputId": "d19b01c1-07f2-4b3a-bc8a-be366403c772"
      },
      "source": [
        "print(data.isnull().values.any())"
      ],
      "execution_count": 8,
      "outputs": [
        {
          "output_type": "stream",
          "name": "stdout",
          "text": [
            "False\n"
          ]
        }
      ]
    },
    {
      "cell_type": "markdown",
      "metadata": {
        "id": "lcUqaRxxoaI0"
      },
      "source": [
        "4. Deskripsikan informasi statistik dari data secara sederhana"
      ]
    },
    {
      "cell_type": "code",
      "metadata": {
        "colab": {
          "base_uri": "https://localhost:8080/",
          "height": 300
        },
        "id": "Pm74KN60evuH",
        "outputId": "a38d06e5-9a1c-4084-a35f-ed29a993ba80"
      },
      "source": [
        "data.describe()"
      ],
      "execution_count": 3,
      "outputs": [
        {
          "output_type": "execute_result",
          "data": {
            "text/html": [
              "<div>\n",
              "<style scoped>\n",
              "    .dataframe tbody tr th:only-of-type {\n",
              "        vertical-align: middle;\n",
              "    }\n",
              "\n",
              "    .dataframe tbody tr th {\n",
              "        vertical-align: top;\n",
              "    }\n",
              "\n",
              "    .dataframe thead th {\n",
              "        text-align: right;\n",
              "    }\n",
              "</style>\n",
              "<table border=\"1\" class=\"dataframe\">\n",
              "  <thead>\n",
              "    <tr style=\"text-align: right;\">\n",
              "      <th></th>\n",
              "      <th>new_cases</th>\n",
              "      <th>cum_cases</th>\n",
              "      <th>new_death</th>\n",
              "      <th>cum_death</th>\n",
              "      <th>cum_recovered</th>\n",
              "      <th>cum_active_cases</th>\n",
              "    </tr>\n",
              "  </thead>\n",
              "  <tbody>\n",
              "    <tr>\n",
              "      <th>count</th>\n",
              "      <td>579.000000</td>\n",
              "      <td>5.790000e+02</td>\n",
              "      <td>579.000000</td>\n",
              "      <td>579.000000</td>\n",
              "      <td>5.790000e+02</td>\n",
              "      <td>5.790000e+02</td>\n",
              "    </tr>\n",
              "    <tr>\n",
              "      <th>mean</th>\n",
              "      <td>56595.647668</td>\n",
              "      <td>1.053530e+07</td>\n",
              "      <td>757.443869</td>\n",
              "      <td>141742.215889</td>\n",
              "      <td>9.807313e+06</td>\n",
              "      <td>5.862402e+05</td>\n",
              "    </tr>\n",
              "    <tr>\n",
              "      <th>std</th>\n",
              "      <td>81881.440898</td>\n",
              "      <td>1.083387e+07</td>\n",
              "      <td>1029.278589</td>\n",
              "      <td>137074.505736</td>\n",
              "      <td>1.038847e+07</td>\n",
              "      <td>7.833744e+05</td>\n",
              "    </tr>\n",
              "    <tr>\n",
              "      <th>min</th>\n",
              "      <td>-1858.000000</td>\n",
              "      <td>1.000000e+00</td>\n",
              "      <td>-39.000000</td>\n",
              "      <td>0.000000</td>\n",
              "      <td>0.000000e+00</td>\n",
              "      <td>0.000000e+00</td>\n",
              "    </tr>\n",
              "    <tr>\n",
              "      <th>25%</th>\n",
              "      <td>10952.000000</td>\n",
              "      <td>4.481990e+05</td>\n",
              "      <td>120.000000</td>\n",
              "      <td>14243.500000</td>\n",
              "      <td>2.534375e+05</td>\n",
              "      <td>1.434610e+05</td>\n",
              "    </tr>\n",
              "    <tr>\n",
              "      <th>50%</th>\n",
              "      <td>35551.000000</td>\n",
              "      <td>8.814579e+06</td>\n",
              "      <td>448.000000</td>\n",
              "      <td>129635.000000</td>\n",
              "      <td>8.205728e+06</td>\n",
              "      <td>3.735420e+05</td>\n",
              "    </tr>\n",
              "    <tr>\n",
              "      <th>75%</th>\n",
              "      <td>61704.000000</td>\n",
              "      <td>1.299456e+07</td>\n",
              "      <td>903.500000</td>\n",
              "      <td>167252.000000</td>\n",
              "      <td>1.188234e+07</td>\n",
              "      <td>6.791970e+05</td>\n",
              "    </tr>\n",
              "    <tr>\n",
              "      <th>max</th>\n",
              "      <td>414188.000000</td>\n",
              "      <td>3.276888e+07</td>\n",
              "      <td>7374.000000</td>\n",
              "      <td>438560.000000</td>\n",
              "      <td>3.195968e+07</td>\n",
              "      <td>3.745237e+06</td>\n",
              "    </tr>\n",
              "  </tbody>\n",
              "</table>\n",
              "</div>"
            ],
            "text/plain": [
              "           new_cases     cum_cases  ...  cum_recovered  cum_active_cases\n",
              "count     579.000000  5.790000e+02  ...   5.790000e+02      5.790000e+02\n",
              "mean    56595.647668  1.053530e+07  ...   9.807313e+06      5.862402e+05\n",
              "std     81881.440898  1.083387e+07  ...   1.038847e+07      7.833744e+05\n",
              "min     -1858.000000  1.000000e+00  ...   0.000000e+00      0.000000e+00\n",
              "25%     10952.000000  4.481990e+05  ...   2.534375e+05      1.434610e+05\n",
              "50%     35551.000000  8.814579e+06  ...   8.205728e+06      3.735420e+05\n",
              "75%     61704.000000  1.299456e+07  ...   1.188234e+07      6.791970e+05\n",
              "max    414188.000000  3.276888e+07  ...   3.195968e+07      3.745237e+06\n",
              "\n",
              "[8 rows x 6 columns]"
            ]
          },
          "metadata": {},
          "execution_count": 3
        }
      ]
    }
  ]
}